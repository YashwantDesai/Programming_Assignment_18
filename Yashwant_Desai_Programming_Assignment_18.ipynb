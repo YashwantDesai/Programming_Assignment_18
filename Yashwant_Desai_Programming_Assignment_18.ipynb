{
 "cells": [
  {
   "cell_type": "markdown",
   "id": "0c27a818",
   "metadata": {},
   "source": [
    "# Yashwant Desai –  Programming_Assingment 18"
   ]
  },
  {
   "cell_type": "markdown",
   "id": "9f377b0f",
   "metadata": {},
   "source": [
    "# Question 1"
   ]
  },
  {
   "cell_type": "markdown",
   "id": "94300d24",
   "metadata": {},
   "source": [
    "Create a function that takes a list of non-negative integers and strings and return a new list without the strings.\n",
    "Examples\n",
    "filter_list([1, 2, \"a\", \"b\"]) ➞ [1, 2]\n",
    "filter_list([1, \"a\", \"b\", 0, 15]) ➞ [1, 0, 15]\n",
    "filter_list([1, 2, \"aasf\", \"1\", \"123\", 123]) ➞ [1, 2, 123]"
   ]
  },
  {
   "cell_type": "code",
   "execution_count": 1,
   "id": "0148fb8a",
   "metadata": {},
   "outputs": [
    {
     "name": "stdout",
     "output_type": "stream",
     "text": [
      "([1, 2, a, b]) ➞ [1, 2]\n",
      "([1, a, b, 0, 15]) ➞ [1, 0, 15]\n",
      "([1, 2, aasf, 1, 123, 123]) ➞ [1, 2, 123]\n"
     ]
    }
   ],
   "source": [
    "def check_integers(user_list):\n",
    "    check_integers = []\n",
    "    for number in (user_list):\n",
    "        if isinstance (number,int) and number >=0:\n",
    "            check_integers.append(number)\n",
    "    return check_integers\n",
    "a= (check_integers([1, 2, \"a\", \"b\"]))\n",
    "b= (check_integers(([1, \"a\", \"b\", 0, 15])))\n",
    "c= (check_integers(([1, 2, \"aasf\", \"1\", \"123\", 123])))\n",
    "print(f\"([1, 2, a, b]) ➞ {a}\")\n",
    "print(f\"([1, a, b, 0, 15]) ➞ {b}\")\n",
    "print(f\"([1, 2, aasf, 1, 123, 123]) ➞ {c}\")"
   ]
  },
  {
   "cell_type": "markdown",
   "id": "bb2bd548",
   "metadata": {},
   "source": [
    "# Question 2"
   ]
  },
  {
   "cell_type": "markdown",
   "id": "dea524ff",
   "metadata": {},
   "source": [
    "The \"Reverser\" takes a string as input and returns that string in reverse order, with the opposite case.\n",
    "Examples\n",
    "reverse(\"Hello World\") ➞ \"DLROw OLLEh\"\n",
    "reverse(\"ReVeRsE\") ➞ \"eSrEvEr\"\n",
    "reverse(\"Radar\") ➞ \"RADAr\""
   ]
  },
  {
   "cell_type": "code",
   "execution_count": 2,
   "id": "824944af",
   "metadata": {},
   "outputs": [
    {
     "name": "stdout",
     "output_type": "stream",
     "text": [
      "Hello World ➞ DLROw OLLEh\n",
      "ReVeRsE ➞ eSrEvEr\n",
      "Radar ➞ RADAr\n"
     ]
    }
   ],
   "source": [
    "def reverser(string):\n",
    "    user_string = string[::-1]\n",
    "    user_string = ''.join([char.lower()if char.isupper()else char.upper() for char in user_string ])\n",
    "    return user_string\n",
    "Hello_World = (reverser(\"Hello World\"))\n",
    "reverse = (reverser(\"ReVeRsE\"))\n",
    "radar = (reverser(\"Radar\"))\n",
    "print(f\"Hello World ➞ {Hello_World}\")\n",
    "print(f\"ReVeRsE ➞ {reverse}\")\n",
    "print(f\"Radar ➞ {radar}\")"
   ]
  },
  {
   "cell_type": "markdown",
   "id": "6b5ff9a4",
   "metadata": {},
   "source": [
    "# Question 3"
   ]
  },
  {
   "cell_type": "markdown",
   "id": "b683f60e",
   "metadata": {},
   "source": [
    "You can assign variables from lists like this:\n",
    "lst = [1, 2, 3, 4, 5, 6]\n",
    "first = lst[0]\n",
    "middle = lst[1:-1]\n",
    "last = lst[-1]\n",
    "print(first) ➞ outputs 1\n",
    "print(middle) ➞ outputs [2, 3, 4, 5]\n",
    "print(last) ➞ outputs 6\n",
    "With Python 3, you can assign variables from lists in a much more succinct way. Create variables first, middle and last from the given list using destructuring assignment (check the Resources tab for some examples), where:\n",
    "first  ➞ 1\n",
    "middle ➞ [2, 3, 4, 5]\n",
    "last ➞ 6\n",
    "Your task is to unpack the list writeyourcodehere into three variables, being first, middle, and last, with middle being everything in between the first and last element. Then print all three variables."
   ]
  },
  {
   "cell_type": "code",
   "execution_count": 3,
   "id": "b7124397",
   "metadata": {},
   "outputs": [
    {
     "name": "stdout",
     "output_type": "stream",
     "text": [
      "first  ➞ 1\n",
      "middle ➞ [2, 3, 4, 5]\n",
      "last ➞ 6\n"
     ]
    }
   ],
   "source": [
    "writeyourcodehere = [1,2,3,4,5,6]\n",
    "first,*middle,last = writeyourcodehere\n",
    "print(f\"first  ➞ {first}\")\n",
    "print(f\"middle ➞ {middle}\")\n",
    "print(f\"last ➞ {last}\")"
   ]
  },
  {
   "cell_type": "markdown",
   "id": "8b01eac3",
   "metadata": {},
   "source": [
    "# Question 4"
   ]
  },
  {
   "cell_type": "markdown",
   "id": "58003927",
   "metadata": {},
   "source": [
    "Write a function that calculates the factorial of a number recursively.\n",
    "Examples\n",
    "factorial(5) ➞ 120\n",
    "factorial(3) ➞ 6\n",
    "factorial(1) ➞ 1\n",
    "factorial(0) ➞ 1"
   ]
  },
  {
   "cell_type": "code",
   "execution_count": 4,
   "id": "8ee8c5ca",
   "metadata": {},
   "outputs": [
    {
     "name": "stdout",
     "output_type": "stream",
     "text": [
      "factorial_cal(5) ➞ 120\n",
      "factorial_cal(3) ➞ 6\n",
      "factorial_cal(1) ➞ 1\n",
      "factorial_cal(0) ➞ 1\n"
     ]
    }
   ],
   "source": [
    "def factorial_cal(num):\n",
    "    if num == 0 or num == 1:\n",
    "        return 1\n",
    "    else:\n",
    "        return num*factorial_cal(num - 1)\n",
    "print(f\"factorial_cal(5) ➞ {factorial_cal(5)}\")\n",
    "print(f\"factorial_cal(3) ➞ {factorial_cal(3)}\")\n",
    "print(f\"factorial_cal(1) ➞ {factorial_cal(1)}\")\n",
    "print(f\"factorial_cal(0) ➞ {factorial_cal(0)}\")"
   ]
  },
  {
   "cell_type": "markdown",
   "id": "d78d0a33",
   "metadata": {},
   "source": [
    "# Question 5"
   ]
  },
  {
   "cell_type": "raw",
   "id": "861417a6",
   "metadata": {},
   "source": [
    "Write a function that moves all elements of one type to the end of the list.\n",
    "Examples\n",
    "move_to_end([1, 3, 2, 4, 4, 1], 1) ➞ [3, 2, 4, 4, 1, 1]\n",
    "# Move all the 1s to the end of the array.\n",
    "move_to_end([7, 8, 9, 1, 2, 3, 4], 9) ➞ [7, 8, 1, 2, 3, 4, 9]\n",
    "move_to_end([\"a\", \"a\", \"a\", \"b\"], \"a\") ➞ [\"b\", \"a\", \"a\", \"a\"]"
   ]
  },
  {
   "cell_type": "code",
   "execution_count": 5,
   "id": "089b9c32",
   "metadata": {},
   "outputs": [
    {
     "name": "stdout",
     "output_type": "stream",
     "text": [
      "([1, 3, 2, 4, 4, 1], 1) ➞ [3, 2, 4, 4, 1, 1]\n",
      "([7, 8, 9, 1, 2, 3, 4], 9) ➞ [7, 8, 1, 2, 3, 4, 9]\n",
      "([a, a, a, b], a) ➞ ['b', 'a', 'a', 'a']\n"
     ]
    }
   ],
   "source": [
    "def list_change(first, user_input):\n",
    "    return [x for x in first if x != user_input] + [x for x in first if x == user_input]\n",
    "print(f\"([1, 3, 2, 4, 4, 1], 1) ➞ {list_change([1, 3, 2, 4, 4, 1], 1)}\")\n",
    "print(f\"([7, 8, 9, 1, 2, 3, 4], 9) ➞ {(list_change([7, 8, 9, 1, 2, 3, 4], 9))}\")\n",
    "a=(list_change([\"a\", \"a\", \"a\", \"b\"], \"a\"))\n",
    "print(f\"([a, a, a, b], a) ➞ {a}\")"
   ]
  },
  {
   "cell_type": "markdown",
   "id": "a79c0885",
   "metadata": {},
   "source": [
    "# Done Regards,Yashwant"
   ]
  }
 ],
 "metadata": {
  "kernelspec": {
   "display_name": "Python 3 (ipykernel)",
   "language": "python",
   "name": "python3"
  },
  "language_info": {
   "codemirror_mode": {
    "name": "ipython",
    "version": 3
   },
   "file_extension": ".py",
   "mimetype": "text/x-python",
   "name": "python",
   "nbconvert_exporter": "python",
   "pygments_lexer": "ipython3",
   "version": "3.9.13"
  }
 },
 "nbformat": 4,
 "nbformat_minor": 5
}
